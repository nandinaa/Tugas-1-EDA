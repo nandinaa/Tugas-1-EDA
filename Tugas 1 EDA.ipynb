{
  "nbformat": 4,
  "nbformat_minor": 0,
  "metadata": {
    "colab": {
      "name": "Tips - Eda .ipynb",
      "provenance": [],
      "collapsed_sections": []
    },
    "kernelspec": {
      "name": "python3",
      "display_name": "Python 3"
    },
    "language_info": {
      "name": "python"
    }
  },
  "cells": [
    {
      "cell_type": "markdown",
      "metadata": {
        "id": "XCiCG5P0KMMX"
      },
      "source": [
        "## Kelompok N\n",
        "#### Anggota Kelompok:\n",
        "1. Anantawidya Prayoga  (2006483523)\n",
        "2. Angelina Putri   (2006464152)\n",
        "3. Natania Agustin (2006572895)\n",
        "4. Nurrochmi Andina (2006571103)\n",
        "5. Valery Ongso (2006570965)"
      ]
    },
    {
      "cell_type": "markdown",
      "metadata": {
        "id": "2D8kC-HkNxvx"
      },
      "source": [
        "# TUGAS 1"
      ]
    },
    {
      "cell_type": "code",
      "metadata": {
        "id": "GoTudaXRNwvm"
      },
      "source": [
        "# Import module yang dibutuhkan\n",
        "import warnings; warnings.simplefilter('ignore')\n",
        "import pandas as pd, matplotlib.pyplot as plt, seaborn as sns, numpy as np\n",
        "import matplotlib.cm as cm\n",
        "import scipy, itertools\n",
        "from scipy import stats \n",
        "from collections import Counter\n",
        "plt.style.use('bmh'); sns.set()"
      ],
      "execution_count": null,
      "outputs": []
    },
    {
      "cell_type": "code",
      "metadata": {
        "colab": {
          "base_uri": "https://localhost:8080/"
        },
        "id": "YGjkFsbBOUao",
        "outputId": "377b0ae7-2089-4d3a-bee2-36f89fe00785"
      },
      "source": [
        "# Importing CSV data  https://pandas.pydata.org/pandas-docs/stable/reference/api/pandas.read_csv.html\n",
        "!mkdir data\n",
        "!wget -P data/ https://raw.githubusercontent.com/taudata-indonesia/eLearning/master/data/price.csv\n",
        "price = pd.read_csv('data/price.csv')"
      ],
      "execution_count": null,
      "outputs": [
        {
          "output_type": "stream",
          "text": [
            "--2021-04-13 04:09:24--  https://raw.githubusercontent.com/taudata-indonesia/eLearning/master/data/price.csv\n",
            "Resolving raw.githubusercontent.com (raw.githubusercontent.com)... 185.199.108.133, 185.199.109.133, 185.199.110.133, ...\n",
            "Connecting to raw.githubusercontent.com (raw.githubusercontent.com)|185.199.108.133|:443... connected.\n",
            "HTTP request sent, awaiting response... 200 OK\n",
            "Length: 53592 (52K) [text/plain]\n",
            "Saving to: ‘data/price.csv’\n",
            "\n",
            "\rprice.csv             0%[                    ]       0  --.-KB/s               \rprice.csv           100%[===================>]  52.34K  --.-KB/s    in 0.001s  \n",
            "\n",
            "2021-04-13 04:09:24 (49.1 MB/s) - ‘data/price.csv’ saved [53592/53592]\n",
            "\n"
          ],
          "name": "stdout"
        }
      ]
    },
    {
      "cell_type": "code",
      "metadata": {
        "colab": {
          "base_uri": "https://localhost:8080/"
        },
        "id": "B_WLH8uqPTSJ",
        "outputId": "08a9ba57-c80f-4401-c137-b536e42f7426"
      },
      "source": [
        "#Load PreProcessed Data\n",
        "price.drop(\"Observation\", axis=1, inplace=True)\n",
        "price.drop_duplicates(inplace=True)\n",
        "price['Parking'] = price['Parking'].astype('category')\n",
        "price['City_Category'] = price['City_Category'].astype('category')\n",
        "price2 = price[np.abs(price.House_Price - price.House_Price.mean())<=(2*price.House_Price.std())]\n",
        "price2.info()"
      ],
      "execution_count": null,
      "outputs": [
        {
          "output_type": "stream",
          "text": [
            "<class 'pandas.core.frame.DataFrame'>\n",
            "Int64Index: 931 entries, 0 to 931\n",
            "Data columns (total 9 columns):\n",
            " #   Column         Non-Null Count  Dtype   \n",
            "---  ------         --------------  -----   \n",
            " 0   Dist_Taxi      918 non-null    float64 \n",
            " 1   Dist_Market    918 non-null    float64 \n",
            " 2   Dist_Hospital  930 non-null    float64 \n",
            " 3   Carpet         923 non-null    float64 \n",
            " 4   Builtup        916 non-null    float64 \n",
            " 5   Parking        931 non-null    category\n",
            " 6   City_Category  931 non-null    category\n",
            " 7   Rainfall       931 non-null    int64   \n",
            " 8   House_Price    931 non-null    int64   \n",
            "dtypes: category(2), float64(5), int64(2)\n",
            "memory usage: 60.3 KB\n"
          ],
          "name": "stdout"
        }
      ]
    },
    {
      "cell_type": "code",
      "metadata": {
        "colab": {
          "base_uri": "https://localhost:8080/",
          "height": 198
        },
        "id": "22tVbqGWPW3_",
        "outputId": "b09f837c-866e-4021-e602-a574deddfd72"
      },
      "source": [
        "# Boxplot\n",
        "p = sns.boxplot(x=\"House_Price\", y=\"Parking\", data=price2)"
      ],
      "execution_count": null,
      "outputs": [
        {
          "output_type": "display_data",
          "data": {
            "image/png": "[encoded data removed]",
            "text/plain": [
              "<Figure size 432x288 with 1 Axes>"
            ]
          },
          "metadata": {
            "tags": []
          }
        }
      ]
    },
    {
      "cell_type": "markdown",
      "metadata": {
        "id": "E98_4FS7Pf7q"
      },
      "source": [
        "Dari boxplot, terlihat bahwa data mengandung satu outlier atas."
      ]
    },
    {
      "cell_type": "code",
      "metadata": {
        "colab": {
          "base_uri": "https://localhost:8080/",
          "height": 134
        },
        "id": "tWgzcnjTP-jL",
        "outputId": "eebad8e7-8eac-4224-ed78-b74c379044be"
      },
      "source": [
        "# Mendapatkan data outlier atas\n",
        "Q1 = price2['House_Price'].quantile(0.25)\n",
        "Q3 = price2['House_Price'].quantile(0.75)\n",
        "IQR = Q3 - Q1 \n",
        "print(\"Q1=(), Q3= (), IQR=()\".format(Q1, Q3, IQR))\n",
        " \n",
        "outliers_=(price2['House_Price'] > Q3  + 1.5*IQR) # outliers atasnya\n",
        "price2.loc[outliers_].head()"
      ],
      "execution_count": null,
      "outputs": [
        {
          "output_type": "stream",
          "text": [
            "Q1=(), Q3= (), IQR=()\n"
          ],
          "name": "stdout"
        },
        {
          "output_type": "execute_result",
          "data": {
            "text/html": [
              "<div>\n",
              "<style scoped>\n",
              "    .dataframe tbody tr th:only-of-type {\n",
              "        vertical-align: middle;\n",
              "    }\n",
              "\n",
              "    .dataframe tbody tr th {\n",
              "        vertical-align: top;\n",
              "    }\n",
              "\n",
              "    .dataframe thead th {\n",
              "        text-align: right;\n",
              "    }\n",
              "</style>\n",
              "<table border=\"1\" class=\"dataframe\">\n",
              "  <thead>\n",
              "    <tr style=\"text-align: right;\">\n",
              "      <th></th>\n",
              "      <th>Dist_Taxi</th>\n",
              "      <th>Dist_Market</th>\n",
              "      <th>Dist_Hospital</th>\n",
              "      <th>Carpet</th>\n",
              "      <th>Builtup</th>\n",
              "      <th>Parking</th>\n",
              "      <th>City_Category</th>\n",
              "      <th>Rainfall</th>\n",
              "      <th>House_Price</th>\n",
              "    </tr>\n",
              "  </thead>\n",
              "  <tbody>\n",
              "    <tr>\n",
              "      <th>678</th>\n",
              "      <td>7288.0</td>\n",
              "      <td>9560.0</td>\n",
              "      <td>12531.0</td>\n",
              "      <td>1989.0</td>\n",
              "      <td>2414.0</td>\n",
              "      <td>No Parking</td>\n",
              "      <td>CAT A</td>\n",
              "      <td>860</td>\n",
              "      <td>11632000</td>\n",
              "    </tr>\n",
              "  </tbody>\n",
              "</table>\n",
              "</div>"
            ],
            "text/plain": [
              "     Dist_Taxi  Dist_Market  Dist_Hospital  ...  City_Category  Rainfall House_Price\n",
              "678     7288.0       9560.0        12531.0  ...          CAT A       860    11632000\n",
              "\n",
              "[1 rows x 9 columns]"
            ]
          },
          "metadata": {
            "tags": []
          },
          "execution_count": 7
        }
      ]
    },
    {
      "cell_type": "markdown",
      "metadata": {
        "id": "tTpBNxU1QOJo"
      },
      "source": [
        "# TUGAS 2"
      ]
    },
    {
      "cell_type": "code",
      "metadata": {
        "colab": {
          "base_uri": "https://localhost:8080/",
          "height": 260
        },
        "id": "ro9ybSW_QNWq",
        "outputId": "17ef35a0-0f96-4d4b-9da8-1b17ee2d3b9b"
      },
      "source": [
        "# Boxplot\n",
        "p = sns.catplot(x=\"Parking\", y=\"House_Price\", hue=\"City_Category\", kind=\"box\", data=price2)"
      ],
      "execution_count": null,
      "outputs": [
        {
          "output_type": "display_data",
          "data": {
            "image/png": "[encoded data removed]",
            "text/plain": [
              "<Figure size 453.425x360 with 1 Axes>"
            ]
          },
          "metadata": {
            "tags": []
          }
        }
      ]
    },
    {
      "cell_type": "markdown",
      "metadata": {
        "id": "qOyoy2J-QcRw"
      },
      "source": [
        "Dari boxplot, terlihat bahwa data mengandung 5 buah outlier bawah dengan rincian: 4 buah outlier pada kota A dan 1 buah outlier pada kota C. Kelima outlier akan dicari menggunakan proses slicing data."
      ]
    },
    {
      "cell_type": "markdown",
      "metadata": {
        "id": "NzpvxRVGQjRk"
      },
      "source": [
        "### Slicing Kota A"
      ]
    },
    {
      "cell_type": "markdown",
      "metadata": {
        "id": "7vQFuk3cQrzW"
      },
      "source": [
        "1.1 Open, No Parking & Not Provided Parking"
      ]
    },
    {
      "cell_type": "code",
      "metadata": {
        "colab": {
          "base_uri": "https://localhost:8080/",
          "height": 492
        },
        "id": "4oom01LRQfcb",
        "outputId": "47a82da5-2a06-4d0c-b9b7-3ca70662063f"
      },
      "source": [
        "urut = price2.sort_values(by=['City_Category','House_Price'])\n",
        "condition = urut['City_Category'] == 'CAT A'\n",
        "hampir = urut[condition]\n",
        "print(hampir)\n",
        " \n",
        "p = sns.boxplot (x=\"Parking\", y=\"House_Price\", data=hampir)\n",
        " \n",
        "Q1 = hampir['House_Price'].quantile(0.25)\n",
        "Q3 = hampir['House_Price'].quantile(0.75)\n",
        "IQR = Q3 - Q1"
      ],
      "execution_count": null,
      "outputs": [
        {
          "output_type": "stream",
          "text": [
            "     Dist_Taxi  Dist_Market  Dist_Hospital  ...  City_Category  Rainfall House_Price\n",
            "811        NaN          NaN            NaN  ...          CAT A       440       30000\n",
            "409     8773.0      13547.0        15551.0  ...          CAT A       960     3860000\n",
            "875     9997.0      12349.0        13043.0  ...          CAT A       770     4303000\n",
            "320    11240.0       9781.0        15232.0  ...          CAT A       520     4496000\n",
            "48      6407.0      10134.0        13433.0  ...          CAT A       870     4927000\n",
            "..         ...          ...            ...  ...            ...       ...         ...\n",
            "789    12262.0      12066.0        13268.0  ...          CAT A       820    10182000\n",
            "428    16233.0      15074.0        18566.0  ...          CAT A      1310    10231000\n",
            "453     5728.0      10253.0        11216.0  ...          CAT A       680    10292000\n",
            "903     7767.0      13460.0         9901.0  ...          CAT A       980    10515000\n",
            "678     7288.0       9560.0        12531.0  ...          CAT A       860    11632000\n",
            "\n",
            "[329 rows x 9 columns]\n"
          ],
          "name": "stdout"
        },
        {
          "output_type": "display_data",
          "data": {
            "image/png": "[encoded data removed]",
            "text/plain": [
              "<Figure size 432x288 with 1 Axes>"
            ]
          },
          "metadata": {
            "tags": []
          }
        }
      ]
    },
    {
      "cell_type": "code",
      "metadata": {
        "colab": {
          "base_uri": "https://localhost:8080/"
        },
        "id": "FdaYwkopQ9ey",
        "outputId": "13a904b4-f09a-4fc7-ce69-04ca6605bf5e"
      },
      "source": [
        "# Menampilkan data outlier bawahnya\n",
        "outliers_ =(hampir['House_Price'] < (Q1 - 1.5 *IQR))\n",
        "print(hampir.loc[outliers_])"
      ],
      "execution_count": null,
      "outputs": [
        {
          "output_type": "stream",
          "text": [
            "     Dist_Taxi  Dist_Market  Dist_Hospital  ...  City_Category  Rainfall House_Price\n",
            "811        NaN          NaN            NaN  ...          CAT A       440       30000\n",
            "409     8773.0      13547.0        15551.0  ...          CAT A       960     3860000\n",
            "\n",
            "[2 rows x 9 columns]\n"
          ],
          "name": "stdout"
        }
      ]
    },
    {
      "cell_type": "markdown",
      "metadata": {
        "id": "kyowJxcQQ6PS"
      },
      "source": [
        "1.2 Covered Parking"
      ]
    },
    {
      "cell_type": "code",
      "metadata": {
        "colab": {
          "base_uri": "https://localhost:8080/",
          "height": 492
        },
        "id": "nJgG9PRaRJHH",
        "outputId": "d2d5d982-197c-4013-a64f-2e75d8bfc7a5"
      },
      "source": [
        "urut = price2.sort_values(by=['City_Category','House_Price'])\n",
        "df = pd.get_dummies(urut[\"Parking\"], prefix=\"Park\")\n",
        "df2 = pd.concat([urut, df['Park_Covered']], axis = 1)\n",
        "condition = (df2['City_Category'] == 'CAT A') & (df2['Park_Covered'] == 1)\n",
        "hampir = df2[condition]\n",
        "print(hampir)\n",
        " \n",
        "p = sns.boxplot (x=\"Park_Covered\", y=\"House_Price\", data=hampir)\n",
        " \n",
        "Q1 = hampir['House_Price'].quantile(0.25)\n",
        "Q3 = hampir['House_Price'].quantile(0.75)\n",
        "IQR = Q3 - Q1"
      ],
      "execution_count": null,
      "outputs": [
        {
          "output_type": "stream",
          "text": [
            "     Dist_Taxi  Dist_Market  Dist_Hospital  ...  Rainfall  House_Price Park_Covered\n",
            "875     9997.0      12349.0        13043.0  ...       770      4303000            1\n",
            "320    11240.0       9781.0        15232.0  ...       520      4496000            1\n",
            "651     6745.0       5772.0         9747.0  ...       720      5073000            1\n",
            "437     9405.0      12156.0        15118.0  ...       920      5209000            1\n",
            "168     9487.0      10781.0        15148.0  ...      1230      5430000            1\n",
            "..         ...          ...            ...  ...       ...          ...          ...\n",
            "844    10410.0      13110.0        16559.0  ...      1270      9590000            1\n",
            "92      1200.0       7579.0         7376.0  ...       940      9726000            1\n",
            "585     3784.0      10365.0         9878.0  ...       700     10178000            1\n",
            "453     5728.0      10253.0        11216.0  ...       680     10292000            1\n",
            "903     7767.0      13460.0         9901.0  ...       980     10515000            1\n",
            "\n",
            "[75 rows x 10 columns]\n"
          ],
          "name": "stdout"
        },
        {
          "output_type": "display_data",
          "data": {
            "image/png": "[encoded data removed]",
            "text/plain": [
              "<Figure size 432x288 with 1 Axes>"
            ]
          },
          "metadata": {
            "tags": []
          }
        }
      ]
    },
    {
      "cell_type": "code",
      "metadata": {
        "colab": {
          "base_uri": "https://localhost:8080/"
        },
        "id": "VfHHtwBtRQAK",
        "outputId": "7dc95943-9e2e-4a55-efcb-3397eb8c8f05"
      },
      "source": [
        "# Menampilkan data outlier bawahnya\n",
        "outliers_ =(hampir['House_Price'] < (Q1 - 1.5 *IQR))\n",
        "print(hampir.loc[outliers_])"
      ],
      "execution_count": null,
      "outputs": [
        {
          "output_type": "stream",
          "text": [
            "     Dist_Taxi  Dist_Market  Dist_Hospital  ...  Rainfall  House_Price Park_Covered\n",
            "875     9997.0      12349.0        13043.0  ...       770      4303000            1\n",
            "320    11240.0       9781.0        15232.0  ...       520      4496000            1\n",
            "\n",
            "[2 rows x 10 columns]\n"
          ],
          "name": "stdout"
        }
      ]
    },
    {
      "cell_type": "markdown",
      "metadata": {
        "id": "nchsvIE3RX8e"
      },
      "source": [
        "### Slicing Kota C"
      ]
    },
    {
      "cell_type": "code",
      "metadata": {
        "colab": {
          "base_uri": "https://localhost:8080/",
          "height": 396
        },
        "id": "Leev5rp8RdMH",
        "outputId": "22451ad4-4223-4d39-dd50-c23341fef143"
      },
      "source": [
        "urut = price2.sort_values(by=['City_Category','House_Price'])\n",
        "df = pd.get_dummies(urut[\"Parking\"], prefix=\"Park\")\n",
        "df2 = pd.concat([urut, df['Park_Covered']], axis = 1)\n",
        "condition = (df2['City_Category'] == 'CAT C') & (df2['Park_Covered'] == 1)\n",
        "hampir = df2[condition]\n",
        "print(hampir.head())\n",
        " \n",
        "p = sns.boxplot (x=\"Park_Covered\", y=\"House_Price\", data=hampir)\n",
        " \n",
        "Q1 = hampir['House_Price'].quantile(0.25)\n",
        "Q3 = hampir['House_Price'].quantile(0.75)\n",
        "IQR = Q3 - Q1"
      ],
      "execution_count": null,
      "outputs": [
        {
          "output_type": "stream",
          "text": [
            "     Dist_Taxi  Dist_Market  Dist_Hospital  ...  Rainfall  House_Price Park_Covered\n",
            "622     4619.0      10768.0        11787.0  ...       870      2027000            1\n",
            "700     5627.0      13099.0        10068.0  ...      1250      2231000            1\n",
            "234     7826.0      13333.0        11983.0  ...      1200      2441000            1\n",
            "900     8475.0       8742.0        12781.0  ...       790      2560000            1\n",
            "128     1637.0       7315.0         7685.0  ...       900      3277000            1\n",
            "\n",
            "[5 rows x 10 columns]\n"
          ],
          "name": "stdout"
        },
        {
          "output_type": "display_data",
          "data": {
            "image/png": "[encoded data removed]",
            "text/plain": [
              "<Figure size 432x288 with 1 Axes>"
            ]
          },
          "metadata": {
            "tags": []
          }
        }
      ]
    },
    {
      "cell_type": "code",
      "metadata": {
        "colab": {
          "base_uri": "https://localhost:8080/"
        },
        "id": "lx_aPyM0Rfdp",
        "outputId": "662a6ced-ba40-4e07-f839-dd6a353e05f1"
      },
      "source": [
        "# Menampilkan data outlier bawahnya\n",
        "outliers_ =(hampir['House_Price'] < (Q1 - 1.5 *IQR))\n",
        "print(hampir.loc[outliers_])"
      ],
      "execution_count": null,
      "outputs": [
        {
          "output_type": "stream",
          "text": [
            "     Dist_Taxi  Dist_Market  Dist_Hospital  ...  Rainfall  House_Price Park_Covered\n",
            "622     4619.0      10768.0        11787.0  ...       870      2027000            1\n",
            "\n",
            "[1 rows x 10 columns]\n"
          ],
          "name": "stdout"
        }
      ]
    },
    {
      "cell_type": "markdown",
      "metadata": {
        "id": "7Go2ZXuvN-nw"
      },
      "source": [
        "Dari segi kategori kota dan ketersediaan tempat parkir, terdapat 5 rumah yang memiliki harga yang sangat rendah. Kelima rumah ini berpeluang besar mendapatkan keuntungan yang lebih besar."
      ]
    },
    {
      "cell_type": "markdown",
      "metadata": {
        "id": "J9Nm7rke2Jg0"
      },
      "source": [
        "##TUGAS 3"
      ]
    },
    {
      "cell_type": "code",
      "metadata": {
        "id": "cICWRpu6Q0ry"
      },
      "source": [
        "#import module yang dibutuhkan\n",
        "import pandas as pd\n",
        "import seaborn as sns\n",
        "import matplotlib.pyplot as plt\n",
        "import numpy as np "
      ],
      "execution_count": null,
      "outputs": []
    },
    {
      "cell_type": "code",
      "metadata": {
        "id": "wQrZ2_KhSvTh"
      },
      "source": [
        "#input data\n",
        "tips = pd.read_csv('tips.csv')"
      ],
      "execution_count": null,
      "outputs": []
    },
    {
      "cell_type": "code",
      "metadata": {
        "colab": {
          "base_uri": "https://localhost:8080/",
          "height": 402
        },
        "id": "9T97ZxXQTB_X",
        "outputId": "e8222d5e-0377-42b8-bb88-ebd1eaa1a46e"
      },
      "source": [
        "tips"
      ],
      "execution_count": null,
      "outputs": [
        {
          "output_type": "execute_result",
          "data": {
            "text/html": [
              "<div>\n",
              "<style scoped>\n",
              "    .dataframe tbody tr th:only-of-type {\n",
              "        vertical-align: middle;\n",
              "    }\n",
              "\n",
              "    .dataframe tbody tr th {\n",
              "        vertical-align: top;\n",
              "    }\n",
              "\n",
              "    .dataframe thead th {\n",
              "        text-align: right;\n",
              "    }\n",
              "</style>\n",
              "<table border=\"1\" class=\"dataframe\">\n",
              "  <thead>\n",
              "    <tr style=\"text-align: right;\">\n",
              "      <th></th>\n",
              "      <th>total_bill</th>\n",
              "      <th>tip</th>\n",
              "      <th>sex</th>\n",
              "      <th>smoker</th>\n",
              "      <th>day</th>\n",
              "      <th>time</th>\n",
              "      <th>size</th>\n",
              "    </tr>\n",
              "  </thead>\n",
              "  <tbody>\n",
              "    <tr>\n",
              "      <th>0</th>\n",
              "      <td>16.99</td>\n",
              "      <td>1.01</td>\n",
              "      <td>Female</td>\n",
              "      <td>No</td>\n",
              "      <td>Sun</td>\n",
              "      <td>Dinner</td>\n",
              "      <td>2</td>\n",
              "    </tr>\n",
              "    <tr>\n",
              "      <th>1</th>\n",
              "      <td>10.34</td>\n",
              "      <td>1.66</td>\n",
              "      <td>Male</td>\n",
              "      <td>No</td>\n",
              "      <td>Sun</td>\n",
              "      <td>Dinner</td>\n",
              "      <td>3</td>\n",
              "    </tr>\n",
              "    <tr>\n",
              "      <th>2</th>\n",
              "      <td>21.01</td>\n",
              "      <td>3.50</td>\n",
              "      <td>Male</td>\n",
              "      <td>No</td>\n",
              "      <td>Sun</td>\n",
              "      <td>Dinner</td>\n",
              "      <td>3</td>\n",
              "    </tr>\n",
              "    <tr>\n",
              "      <th>3</th>\n",
              "      <td>23.68</td>\n",
              "      <td>3.31</td>\n",
              "      <td>Male</td>\n",
              "      <td>No</td>\n",
              "      <td>Sun</td>\n",
              "      <td>Dinner</td>\n",
              "      <td>2</td>\n",
              "    </tr>\n",
              "    <tr>\n",
              "      <th>4</th>\n",
              "      <td>24.59</td>\n",
              "      <td>3.61</td>\n",
              "      <td>Female</td>\n",
              "      <td>No</td>\n",
              "      <td>Sun</td>\n",
              "      <td>Dinner</td>\n",
              "      <td>4</td>\n",
              "    </tr>\n",
              "    <tr>\n",
              "      <th>...</th>\n",
              "      <td>...</td>\n",
              "      <td>...</td>\n",
              "      <td>...</td>\n",
              "      <td>...</td>\n",
              "      <td>...</td>\n",
              "      <td>...</td>\n",
              "      <td>...</td>\n",
              "    </tr>\n",
              "    <tr>\n",
              "      <th>239</th>\n",
              "      <td>29.03</td>\n",
              "      <td>5.92</td>\n",
              "      <td>Male</td>\n",
              "      <td>No</td>\n",
              "      <td>Sat</td>\n",
              "      <td>Dinner</td>\n",
              "      <td>3</td>\n",
              "    </tr>\n",
              "    <tr>\n",
              "      <th>240</th>\n",
              "      <td>27.18</td>\n",
              "      <td>2.00</td>\n",
              "      <td>Female</td>\n",
              "      <td>Yes</td>\n",
              "      <td>Sat</td>\n",
              "      <td>Dinner</td>\n",
              "      <td>2</td>\n",
              "    </tr>\n",
              "    <tr>\n",
              "      <th>241</th>\n",
              "      <td>22.67</td>\n",
              "      <td>2.00</td>\n",
              "      <td>Male</td>\n",
              "      <td>Yes</td>\n",
              "      <td>Sat</td>\n",
              "      <td>Dinner</td>\n",
              "      <td>2</td>\n",
              "    </tr>\n",
              "    <tr>\n",
              "      <th>242</th>\n",
              "      <td>17.82</td>\n",
              "      <td>1.75</td>\n",
              "      <td>Male</td>\n",
              "      <td>No</td>\n",
              "      <td>Sat</td>\n",
              "      <td>Dinner</td>\n",
              "      <td>2</td>\n",
              "    </tr>\n",
              "    <tr>\n",
              "      <th>243</th>\n",
              "      <td>18.78</td>\n",
              "      <td>3.00</td>\n",
              "      <td>Female</td>\n",
              "      <td>No</td>\n",
              "      <td>Thur</td>\n",
              "      <td>Dinner</td>\n",
              "      <td>2</td>\n",
              "    </tr>\n",
              "  </tbody>\n",
              "</table>\n",
              "<p>244 rows × 7 columns</p>\n",
              "</div>"
            ],
            "text/plain": [
              "     total_bill   tip     sex smoker   day    time  size\n",
              "0         16.99  1.01  Female     No   Sun  Dinner     2\n",
              "1         10.34  1.66    Male     No   Sun  Dinner     3\n",
              "2         21.01  3.50    Male     No   Sun  Dinner     3\n",
              "3         23.68  3.31    Male     No   Sun  Dinner     2\n",
              "4         24.59  3.61  Female     No   Sun  Dinner     4\n",
              "..          ...   ...     ...    ...   ...     ...   ...\n",
              "239       29.03  5.92    Male     No   Sat  Dinner     3\n",
              "240       27.18  2.00  Female    Yes   Sat  Dinner     2\n",
              "241       22.67  2.00    Male    Yes   Sat  Dinner     2\n",
              "242       17.82  1.75    Male     No   Sat  Dinner     2\n",
              "243       18.78  3.00  Female     No  Thur  Dinner     2\n",
              "\n",
              "[244 rows x 7 columns]"
            ]
          },
          "metadata": {
            "tags": []
          },
          "execution_count": 65
        }
      ]
    },
    {
      "cell_type": "markdown",
      "metadata": {
        "id": "gE5tld4X2egq"
      },
      "source": [
        "###1. Adakah tipe variable yang kurang tepat di data tersebut?\n",
        "Ada tipe varibel yang kurang tepat yaitu object, seharusnya tipe data nya adalah category karena variabel sex ,smoker,day, time bisa dibagi dalam grup\" \n",
        "\n",
        "PS : Categorical variables represent types of data which may be divided into groups. Examples of categorical variables are race, sex, age group, and educational level"
      ]
    },
    {
      "cell_type": "code",
      "metadata": {
        "colab": {
          "base_uri": "https://localhost:8080/"
        },
        "id": "5PQ1UHeV7Knj",
        "outputId": "becfe6cc-bb9d-4c72-e598-c00354ec339d"
      },
      "source": [
        "tips.info() #ada yang variabelnya tidak tepat, harusnya nomor 3,4,5 category"
      ],
      "execution_count": null,
      "outputs": [
        {
          "output_type": "stream",
          "text": [
            "<class 'pandas.core.frame.DataFrame'>\n",
            "RangeIndex: 244 entries, 0 to 243\n",
            "Data columns (total 7 columns):\n",
            " #   Column      Non-Null Count  Dtype  \n",
            "---  ------      --------------  -----  \n",
            " 0   total_bill  244 non-null    float64\n",
            " 1   tip         244 non-null    float64\n",
            " 2   sex         244 non-null    object \n",
            " 3   smoker      244 non-null    object \n",
            " 4   day         244 non-null    object \n",
            " 5   time        244 non-null    object \n",
            " 6   size        244 non-null    int64  \n",
            "dtypes: float64(2), int64(1), object(4)\n",
            "memory usage: 13.5+ KB\n"
          ],
          "name": "stdout"
        }
      ]
    },
    {
      "cell_type": "code",
      "metadata": {
        "colab": {
          "base_uri": "https://localhost:8080/"
        },
        "id": "j5IbAiK-8Bs0",
        "outputId": "3ce70344-af1b-46b3-8967-b922c54600ce"
      },
      "source": [
        "#mengubah dtype object menjadi dtype category\n",
        "tips['sex'] = tips['sex'].astype('category')\n",
        "tips['smoker'] = tips['smoker'].astype('category')\n",
        "tips['day'] = tips['day'].astype('category')\n",
        "tips['time'] = tips['time'].astype('category')\n",
        "tips.dtypes\n"
      ],
      "execution_count": null,
      "outputs": [
        {
          "output_type": "execute_result",
          "data": {
            "text/plain": [
              "total_bill     float64\n",
              "tip            float64\n",
              "sex           category\n",
              "smoker        category\n",
              "day           category\n",
              "time          category\n",
              "size             int64\n",
              "dtype: object"
            ]
          },
          "metadata": {
            "tags": []
          },
          "execution_count": 68
        }
      ]
    },
    {
      "cell_type": "markdown",
      "metadata": {
        "id": "1G2vCFex3roN"
      },
      "source": [
        "### 2. Apakah data numeriknya berdistribusi normal ?\n",
        "A Normal Distribution is not skewed. It is perfectly symmetrical. \n",
        "Dilihat dari kurva-nya, data numerik skew kanan, maka data numerik TIDAK berdistribusi normal"
      ]
    },
    {
      "cell_type": "code",
      "metadata": {
        "colab": {
          "base_uri": "https://localhost:8080/",
          "height": 367
        },
        "id": "wTgi3aVB89nm",
        "outputId": "3640bf09-e449-4173-f00c-dde8bd699bf9"
      },
      "source": [
        "p = sns.distplot(tips['total_bill'],kde=True, rug=True)\n"
      ],
      "execution_count": null,
      "outputs": [
        {
          "output_type": "stream",
          "text": [
            "/usr/local/lib/python3.7/dist-packages/seaborn/distributions.py:2557: FutureWarning: `distplot` is a deprecated function and will be removed in a future version. Please adapt your code to use either `displot` (a figure-level function with similar flexibility) or `histplot` (an axes-level function for histograms).\n",
            "  warnings.warn(msg, FutureWarning)\n",
            "/usr/local/lib/python3.7/dist-packages/seaborn/distributions.py:2056: FutureWarning: The `axis` variable is no longer used and will be removed. Instead, assign variables directly to `x` or `y`.\n",
            "  warnings.warn(msg, FutureWarning)\n"
          ],
          "name": "stderr"
        },
        {
          "output_type": "display_data",
          "data": {
            "image/png": "[encoded data removed]",
            "text/plain": [
              "<Figure size 432x288 with 1 Axes>"
            ]
          },
          "metadata": {
            "tags": [],
            "needs_background": "light"
          }
        }
      ]
    },
    {
      "cell_type": "code",
      "metadata": {
        "colab": {
          "base_uri": "https://localhost:8080/",
          "height": 366
        },
        "id": "D8r1uIaN9MiV",
        "outputId": "0d44c99d-5d1c-4fc2-d478-8fe0bd9ff92f"
      },
      "source": [
        "q = sns.distplot(tips['tip'],kde=True, rug=True)"
      ],
      "execution_count": null,
      "outputs": [
        {
          "output_type": "stream",
          "text": [
            "/usr/local/lib/python3.7/dist-packages/seaborn/distributions.py:2557: FutureWarning: `distplot` is a deprecated function and will be removed in a future version. Please adapt your code to use either `displot` (a figure-level function with similar flexibility) or `histplot` (an axes-level function for histograms).\n",
            "  warnings.warn(msg, FutureWarning)\n",
            "/usr/local/lib/python3.7/dist-packages/seaborn/distributions.py:2056: FutureWarning: The `axis` variable is no longer used and will be removed. Instead, assign variables directly to `x` or `y`.\n",
            "  warnings.warn(msg, FutureWarning)\n"
          ],
          "name": "stderr"
        },
        {
          "output_type": "display_data",
          "data": {
            "image/png": "[encoded data removed]",
            "text/plain": [
              "<Figure size 432x288 with 1 Axes>"
            ]
          },
          "metadata": {
            "tags": [],
            "needs_background": "light"
          }
        }
      ]
    },
    {
      "cell_type": "code",
      "metadata": {
        "colab": {
          "base_uri": "https://localhost:8080/",
          "height": 366
        },
        "id": "bneX6SWA9PT4",
        "outputId": "01397b85-a8e8-4df4-b8b4-09929d6d319e"
      },
      "source": [
        "r = sns.distplot(tips['size'],kde=True, rug=True)"
      ],
      "execution_count": null,
      "outputs": [
        {
          "output_type": "stream",
          "text": [
            "/usr/local/lib/python3.7/dist-packages/seaborn/distributions.py:2557: FutureWarning: `distplot` is a deprecated function and will be removed in a future version. Please adapt your code to use either `displot` (a figure-level function with similar flexibility) or `histplot` (an axes-level function for histograms).\n",
            "  warnings.warn(msg, FutureWarning)\n",
            "/usr/local/lib/python3.7/dist-packages/seaborn/distributions.py:2056: FutureWarning: The `axis` variable is no longer used and will be removed. Instead, assign variables directly to `x` or `y`.\n",
            "  warnings.warn(msg, FutureWarning)\n"
          ],
          "name": "stderr"
        },
        {
          "output_type": "display_data",
          "data": {
            "image/png": "[encoded data removed]",
            "text/plain": [
              "<Figure size 432x288 with 1 Axes>"
            ]
          },
          "metadata": {
            "tags": [],
            "needs_background": "light"
          }
        }
      ]
    },
    {
      "cell_type": "markdown",
      "metadata": {
        "id": "Rp2Vcqug4QsY"
      },
      "source": [
        "### 3. Apakah ada outlier, noise, missing values, dan duplikasi data?\n",
        "Outlier = Dilihat dari boxplot, terdapat outlier \\\n",
        "Noise = Bila dilihat tidak ada nilai minus dan sebagainya, maka tidak ada noise \\\n",
        "Missing values = Karena null nya 0 maka tidak ada missing values \\\n",
        "Duplikasi data = Ada 1 duplicated data"
      ]
    },
    {
      "cell_type": "code",
      "metadata": {
        "colab": {
          "base_uri": "https://localhost:8080/",
          "height": 373
        },
        "id": "e0tc0wEtAZ_Y",
        "outputId": "c985e1be-fb9c-44c5-9172-9a74394a002c"
      },
      "source": [
        "#cek apakah ada noise\n",
        "tips.describe(include='all')"
      ],
      "execution_count": null,
      "outputs": [
        {
          "output_type": "execute_result",
          "data": {
            "text/html": [
              "<div>\n",
              "<style scoped>\n",
              "    .dataframe tbody tr th:only-of-type {\n",
              "        vertical-align: middle;\n",
              "    }\n",
              "\n",
              "    .dataframe tbody tr th {\n",
              "        vertical-align: top;\n",
              "    }\n",
              "\n",
              "    .dataframe thead th {\n",
              "        text-align: right;\n",
              "    }\n",
              "</style>\n",
              "<table border=\"1\" class=\"dataframe\">\n",
              "  <thead>\n",
              "    <tr style=\"text-align: right;\">\n",
              "      <th></th>\n",
              "      <th>total_bill</th>\n",
              "      <th>tip</th>\n",
              "      <th>sex</th>\n",
              "      <th>smoker</th>\n",
              "      <th>day</th>\n",
              "      <th>time</th>\n",
              "      <th>size</th>\n",
              "    </tr>\n",
              "  </thead>\n",
              "  <tbody>\n",
              "    <tr>\n",
              "      <th>count</th>\n",
              "      <td>244.000000</td>\n",
              "      <td>244.000000</td>\n",
              "      <td>244</td>\n",
              "      <td>244</td>\n",
              "      <td>244</td>\n",
              "      <td>244</td>\n",
              "      <td>244.000000</td>\n",
              "    </tr>\n",
              "    <tr>\n",
              "      <th>unique</th>\n",
              "      <td>NaN</td>\n",
              "      <td>NaN</td>\n",
              "      <td>2</td>\n",
              "      <td>2</td>\n",
              "      <td>4</td>\n",
              "      <td>2</td>\n",
              "      <td>NaN</td>\n",
              "    </tr>\n",
              "    <tr>\n",
              "      <th>top</th>\n",
              "      <td>NaN</td>\n",
              "      <td>NaN</td>\n",
              "      <td>Male</td>\n",
              "      <td>No</td>\n",
              "      <td>Sat</td>\n",
              "      <td>Dinner</td>\n",
              "      <td>NaN</td>\n",
              "    </tr>\n",
              "    <tr>\n",
              "      <th>freq</th>\n",
              "      <td>NaN</td>\n",
              "      <td>NaN</td>\n",
              "      <td>157</td>\n",
              "      <td>151</td>\n",
              "      <td>87</td>\n",
              "      <td>176</td>\n",
              "      <td>NaN</td>\n",
              "    </tr>\n",
              "    <tr>\n",
              "      <th>mean</th>\n",
              "      <td>19.785943</td>\n",
              "      <td>2.998279</td>\n",
              "      <td>NaN</td>\n",
              "      <td>NaN</td>\n",
              "      <td>NaN</td>\n",
              "      <td>NaN</td>\n",
              "      <td>2.569672</td>\n",
              "    </tr>\n",
              "    <tr>\n",
              "      <th>std</th>\n",
              "      <td>8.902412</td>\n",
              "      <td>1.383638</td>\n",
              "      <td>NaN</td>\n",
              "      <td>NaN</td>\n",
              "      <td>NaN</td>\n",
              "      <td>NaN</td>\n",
              "      <td>0.951100</td>\n",
              "    </tr>\n",
              "    <tr>\n",
              "      <th>min</th>\n",
              "      <td>3.070000</td>\n",
              "      <td>1.000000</td>\n",
              "      <td>NaN</td>\n",
              "      <td>NaN</td>\n",
              "      <td>NaN</td>\n",
              "      <td>NaN</td>\n",
              "      <td>1.000000</td>\n",
              "    </tr>\n",
              "    <tr>\n",
              "      <th>25%</th>\n",
              "      <td>13.347500</td>\n",
              "      <td>2.000000</td>\n",
              "      <td>NaN</td>\n",
              "      <td>NaN</td>\n",
              "      <td>NaN</td>\n",
              "      <td>NaN</td>\n",
              "      <td>2.000000</td>\n",
              "    </tr>\n",
              "    <tr>\n",
              "      <th>50%</th>\n",
              "      <td>17.795000</td>\n",
              "      <td>2.900000</td>\n",
              "      <td>NaN</td>\n",
              "      <td>NaN</td>\n",
              "      <td>NaN</td>\n",
              "      <td>NaN</td>\n",
              "      <td>2.000000</td>\n",
              "    </tr>\n",
              "    <tr>\n",
              "      <th>75%</th>\n",
              "      <td>24.127500</td>\n",
              "      <td>3.562500</td>\n",
              "      <td>NaN</td>\n",
              "      <td>NaN</td>\n",
              "      <td>NaN</td>\n",
              "      <td>NaN</td>\n",
              "      <td>3.000000</td>\n",
              "    </tr>\n",
              "    <tr>\n",
              "      <th>max</th>\n",
              "      <td>50.810000</td>\n",
              "      <td>10.000000</td>\n",
              "      <td>NaN</td>\n",
              "      <td>NaN</td>\n",
              "      <td>NaN</td>\n",
              "      <td>NaN</td>\n",
              "      <td>6.000000</td>\n",
              "    </tr>\n",
              "  </tbody>\n",
              "</table>\n",
              "</div>"
            ],
            "text/plain": [
              "        total_bill         tip   sex smoker  day    time        size\n",
              "count   244.000000  244.000000   244    244  244     244  244.000000\n",
              "unique         NaN         NaN     2      2    4       2         NaN\n",
              "top            NaN         NaN  Male     No  Sat  Dinner         NaN\n",
              "freq           NaN         NaN   157    151   87     176         NaN\n",
              "mean     19.785943    2.998279   NaN    NaN  NaN     NaN    2.569672\n",
              "std       8.902412    1.383638   NaN    NaN  NaN     NaN    0.951100\n",
              "min       3.070000    1.000000   NaN    NaN  NaN     NaN    1.000000\n",
              "25%      13.347500    2.000000   NaN    NaN  NaN     NaN    2.000000\n",
              "50%      17.795000    2.900000   NaN    NaN  NaN     NaN    2.000000\n",
              "75%      24.127500    3.562500   NaN    NaN  NaN     NaN    3.000000\n",
              "max      50.810000   10.000000   NaN    NaN  NaN     NaN    6.000000"
            ]
          },
          "metadata": {
            "tags": []
          },
          "execution_count": 77
        }
      ]
    },
    {
      "cell_type": "code",
      "metadata": {
        "colab": {
          "base_uri": "https://localhost:8080/"
        },
        "id": "chWxL59BkS7h",
        "outputId": "2613632a-9ce7-4849-8552-b8e673de720c"
      },
      "source": [
        "#cek missing values \n",
        "print(tips.isnull().sum())"
      ],
      "execution_count": null,
      "outputs": [
        {
          "output_type": "stream",
          "text": [
            "total_bill    0\n",
            "tip           0\n",
            "sex           0\n",
            "smoker        0\n",
            "day           0\n",
            "time          0\n",
            "size          0\n",
            "dtype: int64\n"
          ],
          "name": "stdout"
        }
      ]
    },
    {
      "cell_type": "code",
      "metadata": {
        "colab": {
          "base_uri": "https://localhost:8080/"
        },
        "id": "psm9x6gNo1IM",
        "outputId": "c5bbf277-214e-449f-cea9-12a0fa318333"
      },
      "source": [
        "#cek duplicate data \n",
        "print(tips.shape)\n",
        "tips.duplicated().sum()"
      ],
      "execution_count": null,
      "outputs": [
        {
          "output_type": "stream",
          "text": [
            "(244, 7)\n"
          ],
          "name": "stdout"
        },
        {
          "output_type": "execute_result",
          "data": {
            "text/plain": [
              "1"
            ]
          },
          "metadata": {
            "tags": []
          },
          "execution_count": 79
        }
      ]
    },
    {
      "cell_type": "code",
      "metadata": {
        "colab": {
          "base_uri": "https://localhost:8080/"
        },
        "id": "6wLlXlFSpgSG",
        "outputId": "90309de6-c317-4b47-82f6-1bd00ed536eb"
      },
      "source": [
        "#menghapus entri yang memiliki data duplikat\n",
        "tips.drop_duplicates(inplace = True) \n",
        "print(tips.duplicated().sum()) #cek apakah sudah tidak ada data duplikat\n",
        "print(tips.shape) #cek apakah data duplikat sudah terhapus"
      ],
      "execution_count": null,
      "outputs": [
        {
          "output_type": "stream",
          "text": [
            "0\n",
            "(243, 7)\n"
          ],
          "name": "stdout"
        }
      ]
    },
    {
      "cell_type": "code",
      "metadata": {
        "colab": {
          "base_uri": "https://localhost:8080/",
          "height": 296
        },
        "id": "OrXT9Vkrk2cL",
        "outputId": "8b7e8ae4-0a1d-48d8-8842-5ca16a527ac0"
      },
      "source": [
        "#cek outlier\n",
        "sns.boxplot(x='sex', y='tip', data=tips)\n",
        "# Terlihat bahwa ada outlier atas"
      ],
      "execution_count": null,
      "outputs": [
        {
          "output_type": "execute_result",
          "data": {
            "text/plain": [
              "<matplotlib.axes._subplots.AxesSubplot at 0x7fc7ba88c9d0>"
            ]
          },
          "metadata": {
            "tags": []
          },
          "execution_count": 83
        },
        {
          "output_type": "display_data",
          "data": {
            "image/png": "[encoded data removed]",
            "text/plain": [
              "<Figure size 432x288 with 1 Axes>"
            ]
          },
          "metadata": {
            "tags": [],
            "needs_background": "light"
          }
        }
      ]
    },
    {
      "cell_type": "code",
      "metadata": {
        "colab": {
          "base_uri": "https://localhost:8080/",
          "height": 296
        },
        "id": "OZgdFg-Vk6Db",
        "outputId": "9f8e68f2-0d10-4b0c-aead-0e52f8a91ee8"
      },
      "source": [
        "#cek outlier\n",
        "sns.boxplot(x='time', y='total_bill', data=tips)\n",
        "# Terlihat bahwa ada outlier atas"
      ],
      "execution_count": null,
      "outputs": [
        {
          "output_type": "execute_result",
          "data": {
            "text/plain": [
              "<matplotlib.axes._subplots.AxesSubplot at 0x7fc7baddc410>"
            ]
          },
          "metadata": {
            "tags": []
          },
          "execution_count": 84
        },
        {
          "output_type": "display_data",
          "data": {
            "image/png": "[encoded data removed]",
            "text/plain": [
              "<Figure size 432x288 with 1 Axes>"
            ]
          },
          "metadata": {
            "tags": [],
            "needs_background": "light"
          }
        }
      ]
    },
    {
      "cell_type": "markdown",
      "metadata": {
        "id": "_SKTntTS5_TY"
      },
      "source": [
        "### 4. Apakah pelanggan pria dan wanita cenderung proporsional (balance) ?\n",
        "Dilihat dari gambar, ada kecenderungan pelanggan pria lebih banyak dari pada wanita (tidak balance)"
      ]
    },
    {
      "cell_type": "code",
      "metadata": {
        "colab": {
          "base_uri": "https://localhost:8080/",
          "height": 264
        },
        "id": "puLlsv9vDgjh",
        "outputId": "bf55685a-12d9-49b0-9526-61b615b7388c"
      },
      "source": [
        "data = tips['sex']\n",
        "\n",
        "proporsion = Counter(data)\n",
        "values = [float(v) for v in proporsion.values()]\n",
        "colors = ['r', 'b']\n",
        "labels = proporsion.keys()\n",
        "explode = (0.1, 0)\n",
        "plt.pie(values, colors=colors, labels= values, explode=explode, shadow=True)\n",
        "plt.title('Proporsi Jenis Kelamin')\n",
        "plt.legend(labels,loc='upper left')\n",
        "plt.show()"
      ],
      "execution_count": null,
      "outputs": [
        {
          "output_type": "display_data",
          "data": {
            "image/png": "[encoded data removed]",
            "text/plain": [
              "<Figure size 432x288 with 1 Axes>"
            ]
          },
          "metadata": {
            "tags": []
          }
        }
      ]
    },
    {
      "cell_type": "markdown",
      "metadata": {
        "id": "-PyjAEp070ka"
      },
      "source": [
        "### 5. Dari data yang ada apakah pria atau wanita ada kecenderungan untuk memberi tips lebih besar ?\n"
      ]
    },
    {
      "cell_type": "code",
      "metadata": {
        "colab": {
          "base_uri": "https://localhost:8080/",
          "height": 383
        },
        "id": "MOvbW2uTm3OR",
        "outputId": "4c98fb12-6880-4ffe-b9ec-85ea9ce60d08"
      },
      "source": [
        "a = sns.catplot(x='sex', y='tip',data = tips)\n",
        "# Tidak ada kecenderungan pria atau wanita memberi tips lebih besar"
      ],
      "execution_count": null,
      "outputs": [
        {
          "output_type": "display_data",
          "data": {
            "image/png": "[encoded data removed]",
            "text/plain": [
              "<Figure size 360x360 with 1 Axes>"
            ]
          },
          "metadata": {
            "tags": [],
            "needs_background": "light"
          }
        }
      ]
    },
    {
      "cell_type": "markdown",
      "metadata": {
        "id": "_QN4_iwZzBql"
      },
      "source": [
        "### 6.apakah ada kecenderungan tips lebih besar dihari-hari tertentu ?\n",
        "\n",
        "Dilihat dari polanya tips cenderung lebih besar saat weekend"
      ]
    },
    {
      "cell_type": "code",
      "metadata": {
        "colab": {
          "base_uri": "https://localhost:8080/",
          "height": 296
        },
        "id": "gom1obRzw28o",
        "outputId": "abe92067-6563-455b-e8cf-9c71974ba7c5"
      },
      "source": [
        "sns.barplot(x='day', y='tip', data=tips,  estimator=np.mean)"
      ],
      "execution_count": null,
      "outputs": [
        {
          "output_type": "execute_result",
          "data": {
            "text/plain": [
              "<matplotlib.axes._subplots.AxesSubplot at 0x7fc7b96cc650>"
            ]
          },
          "metadata": {
            "tags": []
          },
          "execution_count": 99
        },
        {
          "output_type": "display_data",
          "data": {
            "image/png": "[encoded data removed]",
            "text/plain": [
              "<Figure size 432x288 with 1 Axes>"
            ]
          },
          "metadata": {
            "tags": [],
            "needs_background": "light"
          }
        }
      ]
    },
    {
      "cell_type": "code",
      "metadata": {
        "id": "lvOB9wgrxmJs",
        "colab": {
          "base_uri": "https://localhost:8080/",
          "height": 421
        },
        "outputId": "18afc6a3-ff96-4eab-ad1b-c88e2fff6f03"
      },
      "source": [
        "plt.figure(figsize=(8,6))\n",
        "plt.title(\"Tips Per Day of Week\")\n",
        "\n",
        "sns.countplot(x=tips['day'],  color = 'purple')"
      ],
      "execution_count": null,
      "outputs": [
        {
          "output_type": "execute_result",
          "data": {
            "text/plain": [
              "<matplotlib.axes._subplots.AxesSubplot at 0x7fc7b963d690>"
            ]
          },
          "metadata": {
            "tags": []
          },
          "execution_count": 100
        },
        {
          "output_type": "display_data",
          "data": {
            "image/png": "[encoded data removed]",
            "text/plain": [
              "<Figure size 576x432 with 1 Axes>"
            ]
          },
          "metadata": {
            "tags": [],
            "needs_background": "light"
          }
        }
      ]
    },
    {
      "cell_type": "markdown",
      "metadata": {
        "id": "Y3jykFO5sght"
      },
      "source": [
        "### 7. Dari data yang ada apakah ada customer perokok cenderung memberi tips lebih besar ?\n",
        "\n",
        "Customer perokok dan tidak perokok tidak ada kecenderungan memberi tips lebih besar"
      ]
    },
    {
      "cell_type": "code",
      "metadata": {
        "colab": {
          "base_uri": "https://localhost:8080/",
          "height": 296
        },
        "id": "iwSuSBa6NBVV",
        "outputId": "c2e18dda-8563-4041-cb66-a15dedf8d816"
      },
      "source": [
        "sns.barplot(x='smoker', y='tip', data=tips ,estimator=np.mean)\n"
      ],
      "execution_count": null,
      "outputs": [
        {
          "output_type": "execute_result",
          "data": {
            "text/plain": [
              "<matplotlib.axes._subplots.AxesSubplot at 0x7fc7b956b310>"
            ]
          },
          "metadata": {
            "tags": []
          },
          "execution_count": 103
        },
        {
          "output_type": "display_data",
          "data": {
            "image/png": "[encoded data removed]",
            "text/plain": [
              "<Figure size 432x288 with 1 Axes>"
            ]
          },
          "metadata": {
            "tags": [],
            "needs_background": "light"
          }
        }
      ]
    },
    {
      "cell_type": "markdown",
      "metadata": {
        "id": "186L-UGPqE8X"
      },
      "source": [
        "### 8. Apakah pola 5 dan 7 dipengaruhi hari?\n",
        "1. Pola soal nomor 5 dan hari:\\\n",
        "Dilihat dari polanya, ada indikasi bahwa customer male dipengaruhi hari, dimana pada hari sabtu male memberi tips cenderung tinggi, sedangkan female tidak dipengaruhi hari karena pada hari kamis,jumat,sabtu,minggu kisaran pemberian tips sama\n",
        "\n",
        "2. Pola soal nomor 7 dan hari :\\\n",
        "Dilihat dari polanya, tidak ada pengaruh hari terhadap tip yang diberikan oleh customer perokok dan bukan perokok.\n"
      ]
    },
    {
      "cell_type": "code",
      "metadata": {
        "colab": {
          "base_uri": "https://localhost:8080/",
          "height": 571
        },
        "id": "F1i0Y9S8uNQk",
        "outputId": "baab9245-63f0-432f-c2f5-e025594694fd"
      },
      "source": [
        "sns.catplot(x=\"day\", y=\"tip\", hue=\"sex\", kind=\"swarm\", data=tips, split=True);\n",
        "#Hari sabtu male kasih tips lebih besar, female tidak dipengaruhi"
      ],
      "execution_count": null,
      "outputs": [
        {
          "output_type": "stream",
          "text": [
            "/usr/local/lib/python3.7/dist-packages/seaborn/categorical.py:2999: UserWarning: The `split` parameter has been renamed to `dodge`.\n",
            "  warnings.warn(msg, UserWarning)\n",
            "/usr/local/lib/python3.7/dist-packages/seaborn/categorical.py:1296: UserWarning: 16.9% of the points cannot be placed; you may want to decrease the size of the markers or use stripplot.\n",
            "  warnings.warn(msg, UserWarning)\n",
            "/usr/local/lib/python3.7/dist-packages/seaborn/categorical.py:1296: UserWarning: 12.1% of the points cannot be placed; you may want to decrease the size of the markers or use stripplot.\n",
            "  warnings.warn(msg, UserWarning)\n",
            "/usr/local/lib/python3.7/dist-packages/seaborn/categorical.py:1296: UserWarning: 6.5% of the points cannot be placed; you may want to decrease the size of the markers or use stripplot.\n",
            "  warnings.warn(msg, UserWarning)\n",
            "/usr/local/lib/python3.7/dist-packages/seaborn/categorical.py:1296: UserWarning: 10.0% of the points cannot be placed; you may want to decrease the size of the markers or use stripplot.\n",
            "  warnings.warn(msg, UserWarning)\n"
          ],
          "name": "stderr"
        },
        {
          "output_type": "display_data",
          "data": {
            "image/png": "[encoded data removed]",
            "text/plain": [
              "<Figure size 432.125x360 with 1 Axes>"
            ]
          },
          "metadata": {
            "tags": [],
            "needs_background": "light"
          }
        }
      ]
    },
    {
      "cell_type": "code",
      "metadata": {
        "colab": {
          "base_uri": "https://localhost:8080/",
          "height": 571
        },
        "id": "v0jKLsNqugf5",
        "outputId": "1d9e1548-e184-4751-cfb6-9eb3b734b95e"
      },
      "source": [
        "\n",
        "sns.catplot(x=\"day\", y=\"tip\", hue=\"smoker\", kind=\"swarm\", data=tips, split=True);\n",
        "#tidak dipengaruhi, karena datanya cenderung berkumpul di tempat yang sama, hanya sedikit yang di atas\n"
      ],
      "execution_count": null,
      "outputs": [
        {
          "output_type": "stream",
          "text": [
            "/usr/local/lib/python3.7/dist-packages/seaborn/categorical.py:2999: UserWarning: The `split` parameter has been renamed to `dodge`.\n",
            "  warnings.warn(msg, UserWarning)\n",
            "/usr/local/lib/python3.7/dist-packages/seaborn/categorical.py:1296: UserWarning: 11.9% of the points cannot be placed; you may want to decrease the size of the markers or use stripplot.\n",
            "  warnings.warn(msg, UserWarning)\n",
            "/usr/local/lib/python3.7/dist-packages/seaborn/categorical.py:1296: UserWarning: 10.5% of the points cannot be placed; you may want to decrease the size of the markers or use stripplot.\n",
            "  warnings.warn(msg, UserWarning)\n",
            "/usr/local/lib/python3.7/dist-packages/seaborn/categorical.py:1296: UserWarning: 11.1% of the points cannot be placed; you may want to decrease the size of the markers or use stripplot.\n",
            "  warnings.warn(msg, UserWarning)\n",
            "/usr/local/lib/python3.7/dist-packages/seaborn/categorical.py:1296: UserWarning: 6.2% of the points cannot be placed; you may want to decrease the size of the markers or use stripplot.\n",
            "  warnings.warn(msg, UserWarning)\n"
          ],
          "name": "stderr"
        },
        {
          "output_type": "display_data",
          "data": {
            "image/png": "[encoded data removed]",
            "text/plain": [
              "<Figure size 412x360 with 1 Axes>"
            ]
          },
          "metadata": {
            "tags": [],
            "needs_background": "light"
          }
        }
      ]
    },
    {
      "cell_type": "markdown",
      "metadata": {
        "id": "UBjwVYtY88YZ"
      },
      "source": [
        "### 9. Pola apalagi yang dapat anda temukan ?\n",
        "\n",
        "1. Pengunjung yang datang paling banyak adalah pelanggan pria, tidak merokok, dan makan malam sehingga lebih baik background music manly , shift pegawai makan malam diperbanyak dan karena yang merokok hanya sendikit, ruang merokok dibuat kecil saja\n",
        "2. Size of the party yang paling banyak adalah 2 , maka perbanyak meja untuk 2 orang\n",
        "3. Semakin besar bill maka ada kecenderungan memberikan tips lebih banyak, maka bisa dibuat set menu sehingga pengunjung langsung membeli banyak dan waiter/waitress disarankan memberikan rekomendasi menu makanan yang mahal pada customer"
      ]
    },
    {
      "cell_type": "code",
      "metadata": {
        "colab": {
          "base_uri": "https://localhost:8080/",
          "height": 921
        },
        "id": "_nn4ybcpkNvL",
        "outputId": "6f60e5dc-b96f-4404-dd7f-db4333212d88"
      },
      "source": [
        "from statsmodels.graphics.mosaicplot import mosaic\n",
        "mosaic(tips,['sex','smoker','time'])\n",
        "\n",
        "#ada indikasi paling banyak customer cowok, tidak merokok, makan malam"
      ],
      "execution_count": null,
      "outputs": [
        {
          "output_type": "execute_result",
          "data": {
            "text/plain": [
              "(<Figure size 432x288 with 3 Axes>,\n",
              " OrderedDict([(('Female', 'No', 'Dinner'),\n",
              "               (0.0, 0.0, 0.1886975779931957, 0.625820907054006)),\n",
              "              (('Female', 'No', 'Lunch'),\n",
              "               (0.18947839555730547,\n",
              "                0.0,\n",
              "                0.16267032585620314,\n",
              "                0.625820907054006)),\n",
              "              (('Female', 'Yes', 'Dinner'),\n",
              "               (0.0,\n",
              "                0.6291431661902186,\n",
              "                0.25254568089175544,\n",
              "                0.3708568338097813)),\n",
              "              (('Female', 'Yes', 'Lunch'),\n",
              "               (0.2533264984558652,\n",
              "                0.6291431661902186,\n",
              "                0.09882222295764341,\n",
              "                0.3708568338097813)),\n",
              "              (('Male', 'No', 'Dinner'),\n",
              "               (0.357123845791618,\n",
              "                0.0,\n",
              "                0.5091928302128246,\n",
              "                0.6157817889413207)),\n",
              "              (('Male', 'No', 'Lunch'),\n",
              "               (0.8677421220226429,\n",
              "                0.0,\n",
              "                0.13225787797735708,\n",
              "                0.6157817889413207)),\n",
              "              (('Male', 'Yes', 'Dinner'),\n",
              "               (0.357123845791618,\n",
              "                0.6191040480775334,\n",
              "                0.5024697214156423,\n",
              "                0.3808959519224665)),\n",
              "              (('Male', 'Yes', 'Lunch'),\n",
              "               (0.8610190132254607,\n",
              "                0.6191040480775334,\n",
              "                0.13898098677453935,\n",
              "                0.3808959519224665))]))"
            ]
          },
          "metadata": {
            "tags": []
          },
          "execution_count": 111
        },
        {
          "output_type": "display_data",
          "data": {
            "image/png": "[encoded data removed]",
            "text/plain": [
              "<Figure size 432x288 with 3 Axes>"
            ]
          },
          "metadata": {
            "tags": [],
            "needs_background": "light"
          }
        }
      ]
    },
    {
      "cell_type": "code",
      "metadata": {
        "colab": {
          "base_uri": "https://localhost:8080/",
          "height": 350
        },
        "id": "X4ki5djKS4HE",
        "outputId": "aaf9260e-9811-4ee3-fe5a-a6b8f1715e5c"
      },
      "source": [
        "sns.countplot('size', data=tips)\n",
        "plt.xlabel('Size of The Party')\n",
        "plt.ylabel('Total')\n",
        "#Parties of two datang ke restaurant paling banyak"
      ],
      "execution_count": null,
      "outputs": [
        {
          "output_type": "stream",
          "text": [
            "/usr/local/lib/python3.7/dist-packages/seaborn/_decorators.py:43: FutureWarning: Pass the following variable as a keyword arg: x. From version 0.12, the only valid positional argument will be `data`, and passing other arguments without an explicit keyword will result in an error or misinterpretation.\n",
            "  FutureWarning\n"
          ],
          "name": "stderr"
        },
        {
          "output_type": "execute_result",
          "data": {
            "text/plain": [
              "Text(0, 0.5, 'Total')"
            ]
          },
          "metadata": {
            "tags": []
          },
          "execution_count": 112
        },
        {
          "output_type": "display_data",
          "data": {
            "image/png": "[encoded data removed]",
            "text/plain": [
              "<Figure size 432x288 with 1 Axes>"
            ]
          },
          "metadata": {
            "tags": [],
            "needs_background": "light"
          }
        }
      ]
    },
    {
      "cell_type": "code",
      "metadata": {
        "colab": {
          "base_uri": "https://localhost:8080/",
          "height": 297
        },
        "id": "PAmh65Stj0RZ",
        "outputId": "f924d05f-a30d-4904-d6ca-309687fc2581"
      },
      "source": [
        "sns.scatterplot(x='total_bill', y='tip', data = tips)\n",
        "#makin besar bill, tip makin banyak"
      ],
      "execution_count": null,
      "outputs": [
        {
          "output_type": "execute_result",
          "data": {
            "text/plain": [
              "<matplotlib.axes._subplots.AxesSubplot at 0x7fc7ba4f5dd0>"
            ]
          },
          "metadata": {
            "tags": []
          },
          "execution_count": 113
        },
        {
          "output_type": "display_data",
          "data": {
            "image/png": "[encoded data removed]",
            "text/plain": [
              "<Figure size 432x288 with 1 Axes>"
            ]
          },
          "metadata": {
            "tags": [],
            "needs_background": "light"
          }
        }
      ]
    },
    {
      "cell_type": "markdown",
      "metadata": {
        "id": "ctZ0SJQv1zyG"
      },
      "source": [
        "###10. Dari hasil EDA anda, saran apa saja yang akan anda berikan ke pemilik restaurant tersebut ?\n",
        "\n",
        "1. Mungkin akan lebih baik jika background music manly , shift pegawai makan malam diperbanyak dan karena yang merokok hanya sendikit, ruang merokok dibuat kecil saja\n",
        "2. Ada kecenderungan bahwa size of the party yang paling banyak adalah 2 , maka disarankan untuk memperbanyak meja untuk 2 orang\n",
        "3. Mungkin bisa dibuat set menu sehingga pengunjung langsung membeli banyak dan saat training, waiter/waitress diberikan arahan untuk merekomendasi menu makanan yang mahal pada customer\n",
        "\n",
        "\n",
        "Skill/kompetensi apa yang terasa sangat dibutuhkan pada latihan ini : Kemampuan berpikir analitis dan memilih visualisasi untuk digunakan"
      ]
    }
  ]
}